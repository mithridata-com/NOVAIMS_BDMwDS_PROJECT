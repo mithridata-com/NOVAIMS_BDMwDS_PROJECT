{
 "cells": [
  {
   "cell_type": "markdown",
   "id": "3e74607b",
   "metadata": {},
   "source": [
    "# ATTACHING MAIN PACKAGES"
   ]
  },
  {
   "cell_type": "code",
   "execution_count": 2,
   "id": "fa30ef40",
   "metadata": {},
   "outputs": [],
   "source": [
    "import os\n",
    "import pandas as pd\n",
    "import sys\n",
    "import numpy as np\n",
    "import matplotlib.pyplot as plt\n",
    "import seaborn as sns\n",
    "sns.set_style(\"whitegrid\")       # optional aesthetics\n",
    "%matplotlib inline "
   ]
  },
  {
   "cell_type": "markdown",
   "id": "469ff546",
   "metadata": {},
   "source": [
    "# READING THE DATA"
   ]
  },
  {
   "cell_type": "code",
   "execution_count": 3,
   "id": "e5b6bb5d",
   "metadata": {},
   "outputs": [],
   "source": [
    "data_path = \"C:\\\\Users\\\\dimet\\\\OneDrive - NOVAIMS\\\\NOVA IMS BDMWDS\\\\0 Data\""
   ]
  },
  {
   "cell_type": "code",
   "execution_count": 4,
   "id": "5e0efc60",
   "metadata": {},
   "outputs": [],
   "source": [
    "# Function to load each Excel file into its own DataFrame\n",
    "def load_excel_dataframe(filename: str, sheet_name: str) -> pd.DataFrame:\n",
    "    \"\"\"\n",
    "    Load a sheet from an Excel file into a pandas DataFrame.\n",
    "    Prints the shape on success or an error message on failure.\n",
    "    \"\"\"\n",
    "    file_path = os.path.join(data_path, filename)\n",
    "    try:\n",
    "        df = pd.read_excel(file_path, sheet_name=sheet_name)\n",
    "        print(f\"Loaded '{sheet_name}' from '{filename}' (shape: {df.shape})\")\n",
    "        return df\n",
    "    except Exception as e:\n",
    "        print(f\"Error loading '{sheet_name}' from '{filename}': {e}\")\n",
    "        return pd.DataFrame()"
   ]
  },
  {
   "cell_type": "code",
   "execution_count": 5,
   "id": "39ba8f98",
   "metadata": {},
   "outputs": [
    {
     "name": "stdout",
     "output_type": "stream",
     "text": [
      "Loaded 'policies_data' from 'Policy.xlsx' (shape: (13365, 26))\n"
     ]
    }
   ],
   "source": [
    "# Load DataFrames\n",
    "df = load_excel_dataframe(\"Policy.xlsx\", \"policies_data\")"
   ]
  },
  {
   "cell_type": "markdown",
   "id": "3ee32001-2772-4774-bc06-974b2e204cd0",
   "metadata": {},
   "source": [
    "# 1. Quick first look "
   ]
  },
  {
   "cell_type": "code",
   "execution_count": 6,
   "id": "3f3ea748-9cd8-42ee-999f-066a4af72462",
   "metadata": {},
   "outputs": [
    {
     "name": "stdout",
     "output_type": "stream",
     "text": [
      "Shape: (13365, 26)\n"
     ]
    },
    {
     "data": {
      "text/html": [
       "<div>\n",
       "<style scoped>\n",
       "    .dataframe tbody tr th:only-of-type {\n",
       "        vertical-align: middle;\n",
       "    }\n",
       "\n",
       "    .dataframe tbody tr th {\n",
       "        vertical-align: top;\n",
       "    }\n",
       "\n",
       "    .dataframe thead th {\n",
       "        text-align: right;\n",
       "    }\n",
       "</style>\n",
       "<table border=\"1\" class=\"dataframe\">\n",
       "  <thead>\n",
       "    <tr style=\"text-align: right;\">\n",
       "      <th></th>\n",
       "      <th>policy_number</th>\n",
       "      <th>policy_continuation_date</th>\n",
       "      <th>policy_start_date</th>\n",
       "      <th>policy_lastchange_date</th>\n",
       "      <th>premium_wa</th>\n",
       "      <th>premium_other</th>\n",
       "      <th>zipcode_link</th>\n",
       "      <th>zip4</th>\n",
       "      <th>place_residence</th>\n",
       "      <th>birth_date</th>\n",
       "      <th>...</th>\n",
       "      <th>brand</th>\n",
       "      <th>builddate_car</th>\n",
       "      <th>weight_car</th>\n",
       "      <th>mileage_car</th>\n",
       "      <th>power_car</th>\n",
       "      <th>fuel_car</th>\n",
       "      <th>chassis</th>\n",
       "      <th>drive</th>\n",
       "      <th>turbo</th>\n",
       "      <th>transmission</th>\n",
       "    </tr>\n",
       "  </thead>\n",
       "  <tbody>\n",
       "    <tr>\n",
       "      <th>0</th>\n",
       "      <td>11948</td>\n",
       "      <td>2020-03-24</td>\n",
       "      <td>2004-03-24</td>\n",
       "      <td>2019-03-23</td>\n",
       "      <td>752.45</td>\n",
       "      <td>963.17</td>\n",
       "      <td>15583</td>\n",
       "      <td>1713</td>\n",
       "      <td>OBDAM</td>\n",
       "      <td>1977-10-01</td>\n",
       "      <td>...</td>\n",
       "      <td>SUZUKI</td>\n",
       "      <td>2019-03-01</td>\n",
       "      <td>1065.0</td>\n",
       "      <td>20</td>\n",
       "      <td>82.0</td>\n",
       "      <td>GASOLINE</td>\n",
       "      <td>SUV</td>\n",
       "      <td>FWD</td>\n",
       "      <td>YES</td>\n",
       "      <td>MANUAL</td>\n",
       "    </tr>\n",
       "    <tr>\n",
       "      <th>1</th>\n",
       "      <td>11949</td>\n",
       "      <td>2020-05-28</td>\n",
       "      <td>2004-05-28</td>\n",
       "      <td>2015-05-28</td>\n",
       "      <td>526.99</td>\n",
       "      <td>454.47</td>\n",
       "      <td>15584</td>\n",
       "      <td>3223</td>\n",
       "      <td>HELLEVOETSLUIS</td>\n",
       "      <td>1967-08-01</td>\n",
       "      <td>...</td>\n",
       "      <td>CITROEN</td>\n",
       "      <td>2011-12-01</td>\n",
       "      <td>805.0</td>\n",
       "      <td>20</td>\n",
       "      <td>50.0</td>\n",
       "      <td>GASOLINE</td>\n",
       "      <td>HATCHB.</td>\n",
       "      <td>FWD</td>\n",
       "      <td>NO</td>\n",
       "      <td>MANUAL</td>\n",
       "    </tr>\n",
       "    <tr>\n",
       "      <th>2</th>\n",
       "      <td>11950</td>\n",
       "      <td>2020-01-01</td>\n",
       "      <td>2004-01-01</td>\n",
       "      <td>2015-07-15</td>\n",
       "      <td>1000.60</td>\n",
       "      <td>1098.17</td>\n",
       "      <td>15585</td>\n",
       "      <td>3312</td>\n",
       "      <td>DORDRECHT</td>\n",
       "      <td>1954-04-01</td>\n",
       "      <td>...</td>\n",
       "      <td>HYUNDAI</td>\n",
       "      <td>2015-06-01</td>\n",
       "      <td>1168.0</td>\n",
       "      <td>15</td>\n",
       "      <td>99.0</td>\n",
       "      <td>GASOLINE</td>\n",
       "      <td>HATCHB.</td>\n",
       "      <td>FWD</td>\n",
       "      <td>NO</td>\n",
       "      <td>MANUAL</td>\n",
       "    </tr>\n",
       "    <tr>\n",
       "      <th>3</th>\n",
       "      <td>11951</td>\n",
       "      <td>2020-04-01</td>\n",
       "      <td>2002-04-01</td>\n",
       "      <td>2018-04-01</td>\n",
       "      <td>NaN</td>\n",
       "      <td>262.42</td>\n",
       "      <td>15586</td>\n",
       "      <td>6524</td>\n",
       "      <td>NYMEGEN</td>\n",
       "      <td>1944-10-01</td>\n",
       "      <td>...</td>\n",
       "      <td>Eriba</td>\n",
       "      <td>NaT</td>\n",
       "      <td>NaN</td>\n",
       "      <td>NaN</td>\n",
       "      <td>NaN</td>\n",
       "      <td>NaN</td>\n",
       "      <td>NaN</td>\n",
       "      <td>NaN</td>\n",
       "      <td>NaN</td>\n",
       "      <td>NaN</td>\n",
       "    </tr>\n",
       "    <tr>\n",
       "      <th>4</th>\n",
       "      <td>11952</td>\n",
       "      <td>2020-10-01</td>\n",
       "      <td>2001-11-21</td>\n",
       "      <td>2019-10-01</td>\n",
       "      <td>561.68</td>\n",
       "      <td>64.80</td>\n",
       "      <td>15587</td>\n",
       "      <td>6215</td>\n",
       "      <td>MAASTRICHT</td>\n",
       "      <td>1950-09-01</td>\n",
       "      <td>...</td>\n",
       "      <td>SUZUKI</td>\n",
       "      <td>2001-01-01</td>\n",
       "      <td>705.0</td>\n",
       "      <td>15</td>\n",
       "      <td>NaN</td>\n",
       "      <td>GASOLINE</td>\n",
       "      <td>NaN</td>\n",
       "      <td>NaN</td>\n",
       "      <td>NaN</td>\n",
       "      <td>NaN</td>\n",
       "    </tr>\n",
       "  </tbody>\n",
       "</table>\n",
       "<p>5 rows × 26 columns</p>\n",
       "</div>"
      ],
      "text/plain": [
       "   policy_number policy_continuation_date policy_start_date  \\\n",
       "0          11948               2020-03-24        2004-03-24   \n",
       "1          11949               2020-05-28        2004-05-28   \n",
       "2          11950               2020-01-01        2004-01-01   \n",
       "3          11951               2020-04-01        2002-04-01   \n",
       "4          11952               2020-10-01        2001-11-21   \n",
       "\n",
       "  policy_lastchange_date  premium_wa  premium_other  zipcode_link  zip4  \\\n",
       "0             2019-03-23      752.45         963.17         15583  1713   \n",
       "1             2015-05-28      526.99         454.47         15584  3223   \n",
       "2             2015-07-15     1000.60        1098.17         15585  3312   \n",
       "3             2018-04-01         NaN         262.42         15586  6524   \n",
       "4             2019-10-01      561.68          64.80         15587  6215   \n",
       "\n",
       "  place_residence birth_date  ...    brand builddate_car  weight_car  \\\n",
       "0           OBDAM 1977-10-01  ...   SUZUKI    2019-03-01      1065.0   \n",
       "1  HELLEVOETSLUIS 1967-08-01  ...  CITROEN    2011-12-01       805.0   \n",
       "2       DORDRECHT 1954-04-01  ...  HYUNDAI    2015-06-01      1168.0   \n",
       "3         NYMEGEN 1944-10-01  ...    Eriba           NaT         NaN   \n",
       "4      MAASTRICHT 1950-09-01  ...   SUZUKI    2001-01-01       705.0   \n",
       "\n",
       "  mileage_car  power_car  fuel_car  chassis drive  turbo transmission  \n",
       "0          20       82.0  GASOLINE      SUV   FWD    YES       MANUAL  \n",
       "1          20       50.0  GASOLINE  HATCHB.   FWD     NO       MANUAL  \n",
       "2          15       99.0  GASOLINE  HATCHB.   FWD     NO       MANUAL  \n",
       "3         NaN        NaN       NaN      NaN   NaN    NaN          NaN  \n",
       "4          15        NaN  GASOLINE      NaN   NaN    NaN          NaN  \n",
       "\n",
       "[5 rows x 26 columns]"
      ]
     },
     "metadata": {},
     "output_type": "display_data"
    },
    {
     "data": {
      "text/html": [
       "<div>\n",
       "<style scoped>\n",
       "    .dataframe tbody tr th:only-of-type {\n",
       "        vertical-align: middle;\n",
       "    }\n",
       "\n",
       "    .dataframe tbody tr th {\n",
       "        vertical-align: top;\n",
       "    }\n",
       "\n",
       "    .dataframe thead th {\n",
       "        text-align: right;\n",
       "    }\n",
       "</style>\n",
       "<table border=\"1\" class=\"dataframe\">\n",
       "  <thead>\n",
       "    <tr style=\"text-align: right;\">\n",
       "      <th></th>\n",
       "      <th>policy_number</th>\n",
       "      <th>policy_continuation_date</th>\n",
       "      <th>policy_start_date</th>\n",
       "      <th>policy_lastchange_date</th>\n",
       "      <th>premium_wa</th>\n",
       "      <th>premium_other</th>\n",
       "      <th>zipcode_link</th>\n",
       "      <th>zip4</th>\n",
       "      <th>place_residence</th>\n",
       "      <th>birth_date</th>\n",
       "      <th>...</th>\n",
       "      <th>brand</th>\n",
       "      <th>builddate_car</th>\n",
       "      <th>weight_car</th>\n",
       "      <th>mileage_car</th>\n",
       "      <th>power_car</th>\n",
       "      <th>fuel_car</th>\n",
       "      <th>chassis</th>\n",
       "      <th>drive</th>\n",
       "      <th>turbo</th>\n",
       "      <th>transmission</th>\n",
       "    </tr>\n",
       "  </thead>\n",
       "  <tbody>\n",
       "    <tr>\n",
       "      <th>13360</th>\n",
       "      <td>25060</td>\n",
       "      <td>2020-01-01</td>\n",
       "      <td>2018-01-01</td>\n",
       "      <td>2018-11-29</td>\n",
       "      <td>1424.63</td>\n",
       "      <td>3407.45</td>\n",
       "      <td>17403</td>\n",
       "      <td>2548</td>\n",
       "      <td>S GRAVENHAGE</td>\n",
       "      <td>1969-12-01</td>\n",
       "      <td>...</td>\n",
       "      <td>MERCEDES</td>\n",
       "      <td>2018-11-01</td>\n",
       "      <td>1580.0</td>\n",
       "      <td>UNKNOWN</td>\n",
       "      <td>143.0</td>\n",
       "      <td>DIESEL</td>\n",
       "      <td>SEDAN</td>\n",
       "      <td>RWD</td>\n",
       "      <td>YES</td>\n",
       "      <td>AUTOMATIC</td>\n",
       "    </tr>\n",
       "    <tr>\n",
       "      <th>13361</th>\n",
       "      <td>25061</td>\n",
       "      <td>2019-12-14</td>\n",
       "      <td>2017-12-14</td>\n",
       "      <td>2019-07-12</td>\n",
       "      <td>655.92</td>\n",
       "      <td>9.31</td>\n",
       "      <td>25609</td>\n",
       "      <td>7607</td>\n",
       "      <td>ALMELO</td>\n",
       "      <td>1987-04-01</td>\n",
       "      <td>...</td>\n",
       "      <td>PEUGEOT</td>\n",
       "      <td>2002-09-01</td>\n",
       "      <td>1117.0</td>\n",
       "      <td>15</td>\n",
       "      <td>55.0</td>\n",
       "      <td>GASOLINE</td>\n",
       "      <td>HATCHB.</td>\n",
       "      <td>FWD</td>\n",
       "      <td>NO</td>\n",
       "      <td>MANUAL</td>\n",
       "    </tr>\n",
       "    <tr>\n",
       "      <th>13362</th>\n",
       "      <td>25062</td>\n",
       "      <td>2018-12-15</td>\n",
       "      <td>2017-12-15</td>\n",
       "      <td>2018-01-25</td>\n",
       "      <td>871.45</td>\n",
       "      <td>29.11</td>\n",
       "      <td>22245</td>\n",
       "      <td>4827</td>\n",
       "      <td>BREDA</td>\n",
       "      <td>1966-08-01</td>\n",
       "      <td>...</td>\n",
       "      <td>MERCEDES</td>\n",
       "      <td>2001-03-01</td>\n",
       "      <td>995.0</td>\n",
       "      <td>15</td>\n",
       "      <td>60.0</td>\n",
       "      <td>GASOLINE</td>\n",
       "      <td>MPV</td>\n",
       "      <td>FWD</td>\n",
       "      <td>NO</td>\n",
       "      <td>MANUAL</td>\n",
       "    </tr>\n",
       "    <tr>\n",
       "      <th>13363</th>\n",
       "      <td>25063</td>\n",
       "      <td>2019-12-13</td>\n",
       "      <td>2017-12-13</td>\n",
       "      <td>2018-08-13</td>\n",
       "      <td>984.04</td>\n",
       "      <td>NaN</td>\n",
       "      <td>25515</td>\n",
       "      <td>2548</td>\n",
       "      <td>S GRAVENHAGE</td>\n",
       "      <td>1962-11-01</td>\n",
       "      <td>...</td>\n",
       "      <td>TOYOTA</td>\n",
       "      <td>1996-01-01</td>\n",
       "      <td>1100.0</td>\n",
       "      <td>15</td>\n",
       "      <td>85.0</td>\n",
       "      <td>GASOLINE</td>\n",
       "      <td>COUPE</td>\n",
       "      <td>FWD</td>\n",
       "      <td>NO</td>\n",
       "      <td>MANUAL</td>\n",
       "    </tr>\n",
       "    <tr>\n",
       "      <th>13364</th>\n",
       "      <td>25064</td>\n",
       "      <td>2019-12-19</td>\n",
       "      <td>2017-12-19</td>\n",
       "      <td>2017-12-19</td>\n",
       "      <td>895.37</td>\n",
       "      <td>289.36</td>\n",
       "      <td>23847</td>\n",
       "      <td>2665</td>\n",
       "      <td>BLEISWYK</td>\n",
       "      <td>1996-04-01</td>\n",
       "      <td>...</td>\n",
       "      <td>PEUGEOT</td>\n",
       "      <td>2011-06-01</td>\n",
       "      <td>805.0</td>\n",
       "      <td>15</td>\n",
       "      <td>50.0</td>\n",
       "      <td>GASOLINE</td>\n",
       "      <td>HATCHB.</td>\n",
       "      <td>FWD</td>\n",
       "      <td>NO</td>\n",
       "      <td>MANUAL</td>\n",
       "    </tr>\n",
       "  </tbody>\n",
       "</table>\n",
       "<p>5 rows × 26 columns</p>\n",
       "</div>"
      ],
      "text/plain": [
       "       policy_number policy_continuation_date policy_start_date  \\\n",
       "13360          25060               2020-01-01        2018-01-01   \n",
       "13361          25061               2019-12-14        2017-12-14   \n",
       "13362          25062               2018-12-15        2017-12-15   \n",
       "13363          25063               2019-12-13        2017-12-13   \n",
       "13364          25064               2019-12-19        2017-12-19   \n",
       "\n",
       "      policy_lastchange_date  premium_wa  premium_other  zipcode_link  zip4  \\\n",
       "13360             2018-11-29     1424.63        3407.45         17403  2548   \n",
       "13361             2019-07-12      655.92           9.31         25609  7607   \n",
       "13362             2018-01-25      871.45          29.11         22245  4827   \n",
       "13363             2018-08-13      984.04            NaN         25515  2548   \n",
       "13364             2017-12-19      895.37         289.36         23847  2665   \n",
       "\n",
       "      place_residence birth_date  ...     brand builddate_car  weight_car  \\\n",
       "13360    S GRAVENHAGE 1969-12-01  ...  MERCEDES    2018-11-01      1580.0   \n",
       "13361          ALMELO 1987-04-01  ...   PEUGEOT    2002-09-01      1117.0   \n",
       "13362           BREDA 1966-08-01  ...  MERCEDES    2001-03-01       995.0   \n",
       "13363    S GRAVENHAGE 1962-11-01  ...    TOYOTA    1996-01-01      1100.0   \n",
       "13364        BLEISWYK 1996-04-01  ...   PEUGEOT    2011-06-01       805.0   \n",
       "\n",
       "      mileage_car  power_car  fuel_car  chassis drive  turbo transmission  \n",
       "13360     UNKNOWN      143.0    DIESEL    SEDAN   RWD    YES    AUTOMATIC  \n",
       "13361          15       55.0  GASOLINE  HATCHB.   FWD     NO       MANUAL  \n",
       "13362          15       60.0  GASOLINE      MPV   FWD     NO       MANUAL  \n",
       "13363          15       85.0  GASOLINE    COUPE   FWD     NO       MANUAL  \n",
       "13364          15       50.0  GASOLINE  HATCHB.   FWD     NO       MANUAL  \n",
       "\n",
       "[5 rows x 26 columns]"
      ]
     },
     "metadata": {},
     "output_type": "display_data"
    }
   ],
   "source": [
    "print(\"Shape:\", df.shape)\n",
    "display(df.head())\n",
    "display(df.tail())"
   ]
  },
  {
   "cell_type": "markdown",
   "id": "e968d7a0-fc99-4ba6-9e0e-e99e531b79c4",
   "metadata": {},
   "source": [
    "# 2. Metadata & basic hygiene "
   ]
  },
  {
   "cell_type": "code",
   "execution_count": 7,
   "id": "a35f9d5f-c6b1-4220-bb8a-2029f73a1b91",
   "metadata": {},
   "outputs": [
    {
     "name": "stdout",
     "output_type": "stream",
     "text": [
      "<class 'pandas.core.frame.DataFrame'>\n",
      "RangeIndex: 13365 entries, 0 to 13364\n",
      "Data columns (total 26 columns):\n",
      " #   Column                       Non-Null Count  Dtype         \n",
      "---  ------                       --------------  -----         \n",
      " 0   policy_number                13365 non-null  int64         \n",
      " 1   policy_continuation_date     13364 non-null  datetime64[ns]\n",
      " 2   policy_start_date            13331 non-null  datetime64[ns]\n",
      " 3   policy_lastchange_date       13365 non-null  datetime64[ns]\n",
      " 4   premium_wa                   13054 non-null  float64       \n",
      " 5   premium_other                11899 non-null  float64       \n",
      " 6   zipcode_link                 13365 non-null  int64         \n",
      " 7   zip4                         13365 non-null  int64         \n",
      " 8   place_residence              13365 non-null  object        \n",
      " 9   birth_date                   13355 non-null  datetime64[ns]\n",
      " 10  gender                       13348 non-null  object        \n",
      " 11  private_commercial           13364 non-null  object        \n",
      " 12  bonus_malus_percent          12998 non-null  float64       \n",
      " 13  other_cover                  8819 non-null   object        \n",
      " 14  premium_other_incl_discount  8820 non-null   float64       \n",
      " 15  worth_car                    12259 non-null  float64       \n",
      " 16  brand                        13363 non-null  object        \n",
      " 17  builddate_car                12786 non-null  datetime64[ns]\n",
      " 18  weight_car                   12766 non-null  float64       \n",
      " 19  mileage_car                  13022 non-null  object        \n",
      " 20  power_car                    12248 non-null  float64       \n",
      " 21  fuel_car                     13032 non-null  object        \n",
      " 22  chassis                      12451 non-null  object        \n",
      " 23  drive                        11871 non-null  object        \n",
      " 24  turbo                        11874 non-null  object        \n",
      " 25  transmission                 11903 non-null  object        \n",
      "dtypes: datetime64[ns](5), float64(7), int64(3), object(11)\n",
      "memory usage: 2.7+ MB\n"
     ]
    }
   ],
   "source": [
    "# 2‑a) Data types\n",
    "df.info()"
   ]
  },
  {
   "cell_type": "code",
   "execution_count": 8,
   "id": "45769365-7fca-466d-a954-4feff6192f2d",
   "metadata": {},
   "outputs": [
    {
     "data": {
      "text/plain": [
       "other_cover                    4546\n",
       "premium_other_incl_discount    4545\n",
       "drive                          1494\n",
       "turbo                          1491\n",
       "premium_other                  1466\n",
       "transmission                   1462\n",
       "power_car                      1117\n",
       "worth_car                      1106\n",
       "chassis                         914\n",
       "weight_car                      599\n",
       "builddate_car                   579\n",
       "bonus_malus_percent             367\n",
       "mileage_car                     343\n",
       "fuel_car                        333\n",
       "premium_wa                      311\n",
       "policy_start_date                34\n",
       "gender                           17\n",
       "birth_date                       10\n",
       "brand                             2\n",
       "private_commercial                1\n",
       "policy_continuation_date          1\n",
       "dtype: int64"
      ]
     },
     "metadata": {},
     "output_type": "display_data"
    }
   ],
   "source": [
    "# 2‑b) Missing‑value profile\n",
    "missings = df.isna().sum().sort_values(ascending=False)\n",
    "display(missings[missings > 0])"
   ]
  },
  {
   "cell_type": "code",
   "execution_count": 9,
   "id": "34df3bd9-dafa-47cc-a795-9e986556c3cc",
   "metadata": {},
   "outputs": [
    {
     "name": "stdout",
     "output_type": "stream",
     "text": [
      "Duplicate rows: 0\n"
     ]
    }
   ],
   "source": [
    "# 2‑c) Duplicate rows\n",
    "dup_count = df.duplicated().sum()\n",
    "print(f\"Duplicate rows: {dup_count}\")"
   ]
  },
  {
   "cell_type": "markdown",
   "id": "c0a8f8be-2a86-469e-9105-1f106866e0ed",
   "metadata": {},
   "source": [
    "# 3. Summary statistics"
   ]
  },
  {
   "cell_type": "code",
   "execution_count": 10,
   "id": "68ef6a32-b2b7-44ed-9f5b-f83ac4f953e5",
   "metadata": {},
   "outputs": [
    {
     "data": {
      "text/html": [
       "<div>\n",
       "<style scoped>\n",
       "    .dataframe tbody tr th:only-of-type {\n",
       "        vertical-align: middle;\n",
       "    }\n",
       "\n",
       "    .dataframe tbody tr th {\n",
       "        vertical-align: top;\n",
       "    }\n",
       "\n",
       "    .dataframe thead th {\n",
       "        text-align: right;\n",
       "    }\n",
       "</style>\n",
       "<table border=\"1\" class=\"dataframe\">\n",
       "  <thead>\n",
       "    <tr style=\"text-align: right;\">\n",
       "      <th></th>\n",
       "      <th>count</th>\n",
       "      <th>mean</th>\n",
       "      <th>min</th>\n",
       "      <th>25%</th>\n",
       "      <th>50%</th>\n",
       "      <th>75%</th>\n",
       "      <th>max</th>\n",
       "      <th>std</th>\n",
       "    </tr>\n",
       "  </thead>\n",
       "  <tbody>\n",
       "    <tr>\n",
       "      <th>policy_number</th>\n",
       "      <td>13365.0</td>\n",
       "      <td>18363.741489</td>\n",
       "      <td>10295.0</td>\n",
       "      <td>15041.0</td>\n",
       "      <td>18382.0</td>\n",
       "      <td>21723.0</td>\n",
       "      <td>25064.0</td>\n",
       "      <td>3891.553388</td>\n",
       "    </tr>\n",
       "    <tr>\n",
       "      <th>policy_continuation_date</th>\n",
       "      <td>13364</td>\n",
       "      <td>2020-04-06 00:53:46.099970048</td>\n",
       "      <td>2014-12-23 00:00:00</td>\n",
       "      <td>2020-02-01 00:00:00</td>\n",
       "      <td>2020-05-29 00:00:00</td>\n",
       "      <td>2020-09-17 00:00:00</td>\n",
       "      <td>2020-11-30 00:00:00</td>\n",
       "      <td>NaN</td>\n",
       "    </tr>\n",
       "    <tr>\n",
       "      <th>policy_start_date</th>\n",
       "      <td>13331</td>\n",
       "      <td>2011-08-04 10:51:47.163753472</td>\n",
       "      <td>1990-06-16 00:00:00</td>\n",
       "      <td>2007-02-13 12:00:00</td>\n",
       "      <td>2011-11-01 00:00:00</td>\n",
       "      <td>2017-01-26 00:00:00</td>\n",
       "      <td>2019-11-01 00:00:00</td>\n",
       "      <td>NaN</td>\n",
       "    </tr>\n",
       "    <tr>\n",
       "      <th>policy_lastchange_date</th>\n",
       "      <td>13365</td>\n",
       "      <td>2017-04-15 02:55:43.838383616</td>\n",
       "      <td>2001-10-01 00:00:00</td>\n",
       "      <td>2016-04-29 00:00:00</td>\n",
       "      <td>2018-01-01 00:00:00</td>\n",
       "      <td>2019-01-01 00:00:00</td>\n",
       "      <td>2019-11-28 00:00:00</td>\n",
       "      <td>NaN</td>\n",
       "    </tr>\n",
       "    <tr>\n",
       "      <th>premium_wa</th>\n",
       "      <td>13054.0</td>\n",
       "      <td>843.724295</td>\n",
       "      <td>27.23</td>\n",
       "      <td>671.61</td>\n",
       "      <td>821.15</td>\n",
       "      <td>997.47</td>\n",
       "      <td>3343.34</td>\n",
       "      <td>270.544455</td>\n",
       "    </tr>\n",
       "    <tr>\n",
       "      <th>premium_other</th>\n",
       "      <td>11899.0</td>\n",
       "      <td>592.009312</td>\n",
       "      <td>0.01</td>\n",
       "      <td>139.7</td>\n",
       "      <td>492.81</td>\n",
       "      <td>917.585</td>\n",
       "      <td>7646.18</td>\n",
       "      <td>527.586518</td>\n",
       "    </tr>\n",
       "    <tr>\n",
       "      <th>zipcode_link</th>\n",
       "      <td>13365.0</td>\n",
       "      <td>19767.489487</td>\n",
       "      <td>10073.0</td>\n",
       "      <td>17161.0</td>\n",
       "      <td>19834.0</td>\n",
       "      <td>22749.0</td>\n",
       "      <td>25609.0</td>\n",
       "      <td>3552.714975</td>\n",
       "    </tr>\n",
       "    <tr>\n",
       "      <th>zip4</th>\n",
       "      <td>13365.0</td>\n",
       "      <td>4635.62544</td>\n",
       "      <td>1011.0</td>\n",
       "      <td>2729.0</td>\n",
       "      <td>3861.0</td>\n",
       "      <td>6846.0</td>\n",
       "      <td>9994.0</td>\n",
       "      <td>2402.639909</td>\n",
       "    </tr>\n",
       "    <tr>\n",
       "      <th>birth_date</th>\n",
       "      <td>13355</td>\n",
       "      <td>1968-12-17 22:28:07.997004868</td>\n",
       "      <td>1900-01-01 00:00:00</td>\n",
       "      <td>1954-08-01 00:00:00</td>\n",
       "      <td>1967-02-01 00:00:00</td>\n",
       "      <td>1986-01-01 00:00:00</td>\n",
       "      <td>1999-12-01 00:00:00</td>\n",
       "      <td>NaN</td>\n",
       "    </tr>\n",
       "    <tr>\n",
       "      <th>bonus_malus_percent</th>\n",
       "      <td>12998.0</td>\n",
       "      <td>69.316818</td>\n",
       "      <td>10.0</td>\n",
       "      <td>65.0</td>\n",
       "      <td>75.0</td>\n",
       "      <td>75.0</td>\n",
       "      <td>80.0</td>\n",
       "      <td>11.043999</td>\n",
       "    </tr>\n",
       "    <tr>\n",
       "      <th>premium_other_incl_discount</th>\n",
       "      <td>8820.0</td>\n",
       "      <td>718.63085</td>\n",
       "      <td>27.23</td>\n",
       "      <td>366.87</td>\n",
       "      <td>624.44</td>\n",
       "      <td>977.14</td>\n",
       "      <td>7425.68</td>\n",
       "      <td>473.249926</td>\n",
       "    </tr>\n",
       "    <tr>\n",
       "      <th>worth_car</th>\n",
       "      <td>12259.0</td>\n",
       "      <td>21036.555184</td>\n",
       "      <td>1750.0</td>\n",
       "      <td>12785.0</td>\n",
       "      <td>18010.0</td>\n",
       "      <td>26314.0</td>\n",
       "      <td>162546.0</td>\n",
       "      <td>11581.780823</td>\n",
       "    </tr>\n",
       "    <tr>\n",
       "      <th>builddate_car</th>\n",
       "      <td>12786</td>\n",
       "      <td>2008-08-31 05:36:10.811825408</td>\n",
       "      <td>1946-01-01 00:00:00</td>\n",
       "      <td>2004-08-01 00:00:00</td>\n",
       "      <td>2009-07-01 00:00:00</td>\n",
       "      <td>2013-02-01 00:00:00</td>\n",
       "      <td>2019-10-01 00:00:00</td>\n",
       "      <td>NaN</td>\n",
       "    </tr>\n",
       "    <tr>\n",
       "      <th>weight_car</th>\n",
       "      <td>12766.0</td>\n",
       "      <td>1089.530628</td>\n",
       "      <td>0.0</td>\n",
       "      <td>900.0</td>\n",
       "      <td>1050.0</td>\n",
       "      <td>1255.0</td>\n",
       "      <td>3300.0</td>\n",
       "      <td>251.805918</td>\n",
       "    </tr>\n",
       "    <tr>\n",
       "      <th>power_car</th>\n",
       "      <td>12248.0</td>\n",
       "      <td>71.741754</td>\n",
       "      <td>21.0</td>\n",
       "      <td>51.0</td>\n",
       "      <td>66.0</td>\n",
       "      <td>85.0</td>\n",
       "      <td>307.0</td>\n",
       "      <td>25.869411</td>\n",
       "    </tr>\n",
       "  </tbody>\n",
       "</table>\n",
       "</div>"
      ],
      "text/plain": [
       "                               count                           mean  \\\n",
       "policy_number                13365.0                   18363.741489   \n",
       "policy_continuation_date       13364  2020-04-06 00:53:46.099970048   \n",
       "policy_start_date              13331  2011-08-04 10:51:47.163753472   \n",
       "policy_lastchange_date         13365  2017-04-15 02:55:43.838383616   \n",
       "premium_wa                   13054.0                     843.724295   \n",
       "premium_other                11899.0                     592.009312   \n",
       "zipcode_link                 13365.0                   19767.489487   \n",
       "zip4                         13365.0                     4635.62544   \n",
       "birth_date                     13355  1968-12-17 22:28:07.997004868   \n",
       "bonus_malus_percent          12998.0                      69.316818   \n",
       "premium_other_incl_discount   8820.0                      718.63085   \n",
       "worth_car                    12259.0                   21036.555184   \n",
       "builddate_car                  12786  2008-08-31 05:36:10.811825408   \n",
       "weight_car                   12766.0                    1089.530628   \n",
       "power_car                    12248.0                      71.741754   \n",
       "\n",
       "                                             min                  25%  \\\n",
       "policy_number                            10295.0              15041.0   \n",
       "policy_continuation_date     2014-12-23 00:00:00  2020-02-01 00:00:00   \n",
       "policy_start_date            1990-06-16 00:00:00  2007-02-13 12:00:00   \n",
       "policy_lastchange_date       2001-10-01 00:00:00  2016-04-29 00:00:00   \n",
       "premium_wa                                 27.23               671.61   \n",
       "premium_other                               0.01                139.7   \n",
       "zipcode_link                             10073.0              17161.0   \n",
       "zip4                                      1011.0               2729.0   \n",
       "birth_date                   1900-01-01 00:00:00  1954-08-01 00:00:00   \n",
       "bonus_malus_percent                         10.0                 65.0   \n",
       "premium_other_incl_discount                27.23               366.87   \n",
       "worth_car                                 1750.0              12785.0   \n",
       "builddate_car                1946-01-01 00:00:00  2004-08-01 00:00:00   \n",
       "weight_car                                   0.0                900.0   \n",
       "power_car                                   21.0                 51.0   \n",
       "\n",
       "                                             50%                  75%  \\\n",
       "policy_number                            18382.0              21723.0   \n",
       "policy_continuation_date     2020-05-29 00:00:00  2020-09-17 00:00:00   \n",
       "policy_start_date            2011-11-01 00:00:00  2017-01-26 00:00:00   \n",
       "policy_lastchange_date       2018-01-01 00:00:00  2019-01-01 00:00:00   \n",
       "premium_wa                                821.15               997.47   \n",
       "premium_other                             492.81              917.585   \n",
       "zipcode_link                             19834.0              22749.0   \n",
       "zip4                                      3861.0               6846.0   \n",
       "birth_date                   1967-02-01 00:00:00  1986-01-01 00:00:00   \n",
       "bonus_malus_percent                         75.0                 75.0   \n",
       "premium_other_incl_discount               624.44               977.14   \n",
       "worth_car                                18010.0              26314.0   \n",
       "builddate_car                2009-07-01 00:00:00  2013-02-01 00:00:00   \n",
       "weight_car                                1050.0               1255.0   \n",
       "power_car                                   66.0                 85.0   \n",
       "\n",
       "                                             max           std  \n",
       "policy_number                            25064.0   3891.553388  \n",
       "policy_continuation_date     2020-11-30 00:00:00           NaN  \n",
       "policy_start_date            2019-11-01 00:00:00           NaN  \n",
       "policy_lastchange_date       2019-11-28 00:00:00           NaN  \n",
       "premium_wa                               3343.34    270.544455  \n",
       "premium_other                            7646.18    527.586518  \n",
       "zipcode_link                             25609.0   3552.714975  \n",
       "zip4                                      9994.0   2402.639909  \n",
       "birth_date                   1999-12-01 00:00:00           NaN  \n",
       "bonus_malus_percent                         80.0     11.043999  \n",
       "premium_other_incl_discount              7425.68    473.249926  \n",
       "worth_car                               162546.0  11581.780823  \n",
       "builddate_car                2019-10-01 00:00:00           NaN  \n",
       "weight_car                                3300.0    251.805918  \n",
       "power_car                                  307.0     25.869411  "
      ]
     },
     "metadata": {},
     "output_type": "display_data"
    }
   ],
   "source": [
    "# 3‑a) Numeric variables\n",
    "display(df.describe().T)"
   ]
  },
  {
   "cell_type": "code",
   "execution_count": 11,
   "id": "44f7192f-eca3-4a46-aecd-9a97eb19bf63",
   "metadata": {},
   "outputs": [
    {
     "name": "stdout",
     "output_type": "stream",
     "text": [
      "\n",
      "--- place_residence ---\n"
     ]
    },
    {
     "data": {
      "text/plain": [
       "place_residence\n",
       "ROTTERDAM       750\n",
       "AMSTERDAM       521\n",
       "S GRAVENHAGE    471\n",
       "UTRECHT         276\n",
       "ENSCHEDE        251\n",
       "ARNHEM          201\n",
       "ZOETERMEER      194\n",
       "GRONINGEN       169\n",
       "ALMERE          163\n",
       "ALMELO          142\n",
       "Name: count, dtype: int64"
      ]
     },
     "metadata": {},
     "output_type": "display_data"
    },
    {
     "name": "stdout",
     "output_type": "stream",
     "text": [
      "\n",
      "--- gender ---\n"
     ]
    },
    {
     "data": {
      "text/plain": [
       "gender\n",
       "M      7593\n",
       "F      5755\n",
       "NaN      17\n",
       "Name: count, dtype: int64"
      ]
     },
     "metadata": {},
     "output_type": "display_data"
    },
    {
     "name": "stdout",
     "output_type": "stream",
     "text": [
      "\n",
      "--- private_commercial ---\n"
     ]
    },
    {
     "data": {
      "text/plain": [
       "private_commercial\n",
       "P      13351\n",
       "Z         13\n",
       "NaN        1\n",
       "Name: count, dtype: int64"
      ]
     },
     "metadata": {},
     "output_type": "display_data"
    },
    {
     "name": "stdout",
     "output_type": "stream",
     "text": [
      "\n",
      "--- other_cover ---\n"
     ]
    },
    {
     "data": {
      "text/plain": [
       "other_cover\n",
       "CAS    6150\n",
       "NaN    4546\n",
       "BEP    2669\n",
       "Name: count, dtype: int64"
      ]
     },
     "metadata": {},
     "output_type": "display_data"
    },
    {
     "name": "stdout",
     "output_type": "stream",
     "text": [
      "\n",
      "--- brand ---\n"
     ]
    },
    {
     "data": {
      "text/plain": [
       "brand\n",
       "VOLKSWAGEN    1462\n",
       "RENAULT       1061\n",
       "PEUGEOT       1047\n",
       "OPEL          1027\n",
       "TOYOTA         993\n",
       "FORD           967\n",
       "CITROEN        691\n",
       "SUZUKI         571\n",
       "FIAT           550\n",
       "KIA            476\n",
       "Name: count, dtype: int64"
      ]
     },
     "metadata": {},
     "output_type": "display_data"
    },
    {
     "name": "stdout",
     "output_type": "stream",
     "text": [
      "\n",
      "--- mileage_car ---\n"
     ]
    },
    {
     "data": {
      "text/plain": [
       "mileage_car\n",
       "15         9293\n",
       "20         2963\n",
       "UNKNOWN     679\n",
       "NaN         343\n",
       "10           87\n",
       "Name: count, dtype: int64"
      ]
     },
     "metadata": {},
     "output_type": "display_data"
    },
    {
     "name": "stdout",
     "output_type": "stream",
     "text": [
      "\n",
      "--- fuel_car ---\n"
     ]
    },
    {
     "data": {
      "text/plain": [
       "fuel_car\n",
       "GASOLINE    11022\n",
       "DIESEL       1589\n",
       "NaN           333\n",
       "HYBR/GAS      240\n",
       "LPG           127\n",
       "HYBRID         38\n",
       "ELECTRIC        6\n",
       "ALCOHOL         5\n",
       "HYBR/DSL        4\n",
       "UNKNOWN         1\n",
       "Name: count, dtype: int64"
      ]
     },
     "metadata": {},
     "output_type": "display_data"
    },
    {
     "name": "stdout",
     "output_type": "stream",
     "text": [
      "\n",
      "--- chassis ---\n"
     ]
    },
    {
     "data": {
      "text/plain": [
       "chassis\n",
       "HATCHB.    7892\n",
       "COMBI      1269\n",
       "MPV        1149\n",
       "NaN         914\n",
       "SUV         882\n",
       "SEDAN       567\n",
       "OTHER       263\n",
       "VAN         138\n",
       "SOFTTOP     119\n",
       "COUPE        83\n",
       "Name: count, dtype: int64"
      ]
     },
     "metadata": {},
     "output_type": "display_data"
    },
    {
     "name": "stdout",
     "output_type": "stream",
     "text": [
      "\n",
      "--- drive ---\n"
     ]
    },
    {
     "data": {
      "text/plain": [
       "drive\n",
       "FWD        11170\n",
       "NaN         1494\n",
       "RWD          440\n",
       "AWD          207\n",
       "UNKNOWN       38\n",
       "4WD           16\n",
       "Name: count, dtype: int64"
      ]
     },
     "metadata": {},
     "output_type": "display_data"
    },
    {
     "name": "stdout",
     "output_type": "stream",
     "text": [
      "\n",
      "--- turbo ---\n"
     ]
    },
    {
     "data": {
      "text/plain": [
       "turbo\n",
       "NO     8452\n",
       "YES    3422\n",
       "NaN    1491\n",
       "Name: count, dtype: int64"
      ]
     },
     "metadata": {},
     "output_type": "display_data"
    },
    {
     "name": "stdout",
     "output_type": "stream",
     "text": [
      "\n",
      "--- transmission ---\n"
     ]
    },
    {
     "data": {
      "text/plain": [
       "transmission\n",
       "MANUAL       9959\n",
       "AUTOMATIC    1944\n",
       "NaN          1462\n",
       "Name: count, dtype: int64"
      ]
     },
     "metadata": {},
     "output_type": "display_data"
    }
   ],
   "source": [
    "# 3‑b) Categorical variables (top‑10 value counts each)\n",
    "cat_cols = df.select_dtypes(include=[\"object\", \"category\"]).columns\n",
    "for c in cat_cols:\n",
    "    print(f\"\\n--- {c} ---\")\n",
    "    display(df[c].value_counts(dropna=False).head(10))"
   ]
  },
  {
   "cell_type": "markdown",
   "id": "67582810-8811-499c-8d7a-3638421a7b64",
   "metadata": {},
   "source": [
    "# 4. Target variable & funnel conversion checks"
   ]
  },
  {
   "cell_type": "code",
   "execution_count": 13,
   "id": "b7b10a7e-824f-4f99-a88a-3fdb31cfd936",
   "metadata": {},
   "outputs": [
    {
     "name": "stdout",
     "output_type": "stream",
     "text": [
      "Premium rate: 843.72\n"
     ]
    }
   ],
   "source": [
    "premium_rate = df['premium_wa'].mean()\n",
    "print(f\"Premium rate: {premium_rate:0.5}\")"
   ]
  },
  {
   "cell_type": "markdown",
   "id": "984b9582-8952-4433-a8dc-9481c233beb0",
   "metadata": {},
   "source": [
    "# 5. Univariate distributions"
   ]
  },
  {
   "cell_type": "code",
   "execution_count": 14,
   "id": "bee9e8d3-a4f5-4e11-a60c-3cebc92d23e3",
   "metadata": {},
   "outputs": [
    {
     "data": {
      "image/png": "[encoded data removed]",
      "text/plain": [
       "<Figure size 288x144 with 1 Axes>"
      ]
     },
     "metadata": {
      "needs_background": "light"
     },
     "output_type": "display_data"
    },
    {
     "data": {
      "image/png": "[encoded data removed]",
      "text/plain": [
       "<Figure size 288x144 with 1 Axes>"
      ]
     },
     "metadata": {
      "needs_background": "light"
     },
     "output_type": "display_data"
    },
    {
     "data": {
      "image/png": "[encoded data removed]",
      "text/plain": [
       "<Figure size 288x144 with 1 Axes>"
      ]
     },
     "metadata": {
      "needs_background": "light"
     },
     "output_type": "display_data"
    },
    {
     "data": {
      "image/png": "[encoded data removed]",
      "text/plain": [
       "<Figure size 288x144 with 1 Axes>"
      ]
     },
     "metadata": {
      "needs_background": "light"
     },
     "output_type": "display_data"
    },
    {
     "data": {
      "image/png": "[encoded data removed]",
      "text/plain": [
       "<Figure size 288x144 with 1 Axes>"
      ]
     },
     "metadata": {
      "needs_background": "light"
     },
     "output_type": "display_data"
    },
    {
     "data": {
      "image/png": "[encoded data removed]",
      "text/plain": [
       "<Figure size 288x144 with 1 Axes>"
      ]
     },
     "metadata": {
      "needs_background": "light"
     },
     "output_type": "display_data"
    },
    {
     "data": {
      "image/png": "[encoded data removed]",
      "text/plain": [
       "<Figure size 288x144 with 1 Axes>"
      ]
     },
     "metadata": {
      "needs_background": "light"
     },
     "output_type": "display_data"
    },
    {
     "data": {
      "image/png": "[encoded data removed]",
      "text/plain": [
       "<Figure size 288x144 with 1 Axes>"
      ]
     },
     "metadata": {
      "needs_background": "light"
     },
     "output_type": "display_data"
    },
    {
     "data": {
      "image/png": "[encoded data removed]",
      "text/plain": [
       "<Figure size 288x144 with 1 Axes>"
      ]
     },
     "metadata": {
      "needs_background": "light"
     },
     "output_type": "display_data"
    },
    {
     "data": {
      "image/png": "[encoded data removed]",
      "text/plain": [
       "<Figure size 288x144 with 1 Axes>"
      ]
     },
     "metadata": {
      "needs_background": "light"
     },
     "output_type": "display_data"
    }
   ],
   "source": [
    "num_cols = df.select_dtypes(include=np.number).columns\n",
    "for col in num_cols:\n",
    "    plt.figure(figsize=(4,2))\n",
    "    sns.histplot(df[col].dropna(), kde=True)\n",
    "    plt.title(col)\n",
    "    plt.show()"
   ]
  },
  {
   "cell_type": "markdown",
   "id": "85f7d2a0-029f-4692-bfc2-143d4a91d67a",
   "metadata": {},
   "source": [
    "# 6. Bivariate relationships"
   ]
  },
  {
   "cell_type": "code",
   "execution_count": 15,
   "id": "57189ddd-1085-4389-82e0-9edc2e4d89cc",
   "metadata": {},
   "outputs": [
    {
     "data": {
      "image/png": "[encoded data removed]",
      "text/plain": [
       "<Figure size 720x576 with 2 Axes>"
      ]
     },
     "metadata": {
      "needs_background": "light"
     },
     "output_type": "display_data"
    }
   ],
   "source": [
    "# 6‑a) Correlation heat‑map for numerics\n",
    "plt.figure(figsize=(10,8))\n",
    "corr = df[num_cols].corr()\n",
    "sns.heatmap(corr, annot=False, cmap=\"coolwarm\", vmax=1, vmin=-1)\n",
    "plt.title(\"Pearson correlations\")\n",
    "plt.show()"
   ]
  },
  {
   "cell_type": "markdown",
   "id": "2b3949d9-5bf8-454e-b117-7e656178b82f",
   "metadata": {},
   "source": [
    "# 7. Categorical vs. target"
   ]
  },
  {
   "cell_type": "code",
   "execution_count": 23,
   "id": "f38577a5-f837-4e65-9717-c84c4ea7b826",
   "metadata": {},
   "outputs": [
    {
     "data": {
      "text/html": [
       "<div>\n",
       "<style scoped>\n",
       "    .dataframe tbody tr th:only-of-type {\n",
       "        vertical-align: middle;\n",
       "    }\n",
       "\n",
       "    .dataframe tbody tr th {\n",
       "        vertical-align: top;\n",
       "    }\n",
       "\n",
       "    .dataframe thead tr th {\n",
       "        text-align: left;\n",
       "    }\n",
       "\n",
       "    .dataframe thead tr:last-of-type th {\n",
       "        text-align: right;\n",
       "    }\n",
       "</style>\n",
       "<table border=\"1\" class=\"dataframe\">\n",
       "  <thead>\n",
       "    <tr>\n",
       "      <th></th>\n",
       "      <th colspan=\"2\" halign=\"left\">policy_number</th>\n",
       "    </tr>\n",
       "    <tr>\n",
       "      <th>private_commercial</th>\n",
       "      <th>P</th>\n",
       "      <th>Z</th>\n",
       "    </tr>\n",
       "    <tr>\n",
       "      <th>gender</th>\n",
       "      <th></th>\n",
       "      <th></th>\n",
       "    </tr>\n",
       "  </thead>\n",
       "  <tbody>\n",
       "    <tr>\n",
       "      <th>F</th>\n",
       "      <td>5754</td>\n",
       "      <td>1</td>\n",
       "    </tr>\n",
       "    <tr>\n",
       "      <th>M</th>\n",
       "      <td>7588</td>\n",
       "      <td>4</td>\n",
       "    </tr>\n",
       "  </tbody>\n",
       "</table>\n",
       "</div>"
      ],
      "text/plain": [
       "                   policy_number   \n",
       "private_commercial             P  Z\n",
       "gender                             \n",
       "F                           5754  1\n",
       "M                           7588  4"
      ]
     },
     "execution_count": 23,
     "metadata": {},
     "output_type": "execute_result"
    }
   ],
   "source": [
    "pd.pivot_table(\n",
    "    df, values=[\"policy_number\"],\n",
    "    index=[\"gender\"],\n",
    "    columns=[\"private_commercial\"],\n",
    "    aggfunc=\"count\",\n",
    ")"
   ]
  },
  {
   "cell_type": "code",
   "execution_count": 25,
   "id": "76772bd8-4bc6-4849-9f76-309575cf5e5b",
   "metadata": {},
   "outputs": [
    {
     "data": {
      "text/html": [
       "<div>\n",
       "<style scoped>\n",
       "    .dataframe tbody tr th:only-of-type {\n",
       "        vertical-align: middle;\n",
       "    }\n",
       "\n",
       "    .dataframe tbody tr th {\n",
       "        vertical-align: top;\n",
       "    }\n",
       "\n",
       "    .dataframe thead tr th {\n",
       "        text-align: left;\n",
       "    }\n",
       "\n",
       "    .dataframe thead tr:last-of-type th {\n",
       "        text-align: right;\n",
       "    }\n",
       "</style>\n",
       "<table border=\"1\" class=\"dataframe\">\n",
       "  <thead>\n",
       "    <tr>\n",
       "      <th></th>\n",
       "      <th colspan=\"21\" halign=\"left\">premium_wa</th>\n",
       "    </tr>\n",
       "    <tr>\n",
       "      <th>place_residence</th>\n",
       "      <th>'S-GRAVENHAGE</th>\n",
       "      <th>'S-HEER ARENDSKERKE</th>\n",
       "      <th>'S-HEERENBROEK</th>\n",
       "      <th>'S-HERTOGENBOSCH</th>\n",
       "      <th>'T HARDE</th>\n",
       "      <th>'T ZAND</th>\n",
       "      <th>AALDEN</th>\n",
       "      <th>AALSMEER</th>\n",
       "      <th>AALST GLD</th>\n",
       "      <th>AALSUM</th>\n",
       "      <th>...</th>\n",
       "      <th>ZWAANSHOEK</th>\n",
       "      <th>ZWAMMERDAM</th>\n",
       "      <th>ZWANENBURG</th>\n",
       "      <th>ZWARTEWAAL</th>\n",
       "      <th>ZWARTSLUIS</th>\n",
       "      <th>ZWEELOO</th>\n",
       "      <th>ZWIJNDRECHT</th>\n",
       "      <th>ZWOLLE</th>\n",
       "      <th>ZWYNDRECHT</th>\n",
       "      <th>ZYDERVELD</th>\n",
       "    </tr>\n",
       "    <tr>\n",
       "      <th>gender</th>\n",
       "      <th></th>\n",
       "      <th></th>\n",
       "      <th></th>\n",
       "      <th></th>\n",
       "      <th></th>\n",
       "      <th></th>\n",
       "      <th></th>\n",
       "      <th></th>\n",
       "      <th></th>\n",
       "      <th></th>\n",
       "      <th></th>\n",
       "      <th></th>\n",
       "      <th></th>\n",
       "      <th></th>\n",
       "      <th></th>\n",
       "      <th></th>\n",
       "      <th></th>\n",
       "      <th></th>\n",
       "      <th></th>\n",
       "      <th></th>\n",
       "      <th></th>\n",
       "    </tr>\n",
       "  </thead>\n",
       "  <tbody>\n",
       "    <tr>\n",
       "      <th>F</th>\n",
       "      <td>899.098205</td>\n",
       "      <td>472.7</td>\n",
       "      <td>1002.75</td>\n",
       "      <td>861.678333</td>\n",
       "      <td>830.61</td>\n",
       "      <td>NaN</td>\n",
       "      <td>600.11</td>\n",
       "      <td>961.95</td>\n",
       "      <td>874.42</td>\n",
       "      <td>NaN</td>\n",
       "      <td>...</td>\n",
       "      <td>979.48</td>\n",
       "      <td>NaN</td>\n",
       "      <td>790.88</td>\n",
       "      <td>NaN</td>\n",
       "      <td>867.54</td>\n",
       "      <td>1092.61</td>\n",
       "      <td>934.44</td>\n",
       "      <td>693.878889</td>\n",
       "      <td>739.171818</td>\n",
       "      <td>612.72</td>\n",
       "    </tr>\n",
       "    <tr>\n",
       "      <th>M</th>\n",
       "      <td>933.177895</td>\n",
       "      <td>NaN</td>\n",
       "      <td>NaN</td>\n",
       "      <td>794.415000</td>\n",
       "      <td>NaN</td>\n",
       "      <td>1145.5</td>\n",
       "      <td>NaN</td>\n",
       "      <td>852.12</td>\n",
       "      <td>852.89</td>\n",
       "      <td>748.6</td>\n",
       "      <td>...</td>\n",
       "      <td>NaN</td>\n",
       "      <td>703.38</td>\n",
       "      <td>1033.80</td>\n",
       "      <td>1046.25</td>\n",
       "      <td>1026.54</td>\n",
       "      <td>NaN</td>\n",
       "      <td>NaN</td>\n",
       "      <td>765.679545</td>\n",
       "      <td>894.286364</td>\n",
       "      <td>NaN</td>\n",
       "    </tr>\n",
       "  </tbody>\n",
       "</table>\n",
       "<p>2 rows × 1294 columns</p>\n",
       "</div>"
      ],
      "text/plain": [
       "                   premium_wa                                     \\\n",
       "place_residence 'S-GRAVENHAGE 'S-HEER ARENDSKERKE 'S-HEERENBROEK   \n",
       "gender                                                             \n",
       "F                  899.098205               472.7        1002.75   \n",
       "M                  933.177895                 NaN            NaN   \n",
       "\n",
       "                                                                              \\\n",
       "place_residence 'S-HERTOGENBOSCH 'T HARDE 'T ZAND  AALDEN AALSMEER AALST GLD   \n",
       "gender                                                                         \n",
       "F                     861.678333   830.61     NaN  600.11   961.95    874.42   \n",
       "M                     794.415000      NaN  1145.5     NaN   852.12    852.89   \n",
       "\n",
       "                        ...                                              \\\n",
       "place_residence AALSUM  ... ZWAANSHOEK ZWAMMERDAM ZWANENBURG ZWARTEWAAL   \n",
       "gender                  ...                                               \n",
       "F                  NaN  ...     979.48        NaN     790.88        NaN   \n",
       "M                748.6  ...        NaN     703.38    1033.80    1046.25   \n",
       "\n",
       "                                                                         \\\n",
       "place_residence ZWARTSLUIS  ZWEELOO ZWIJNDRECHT      ZWOLLE  ZWYNDRECHT   \n",
       "gender                                                                    \n",
       "F                   867.54  1092.61      934.44  693.878889  739.171818   \n",
       "M                  1026.54      NaN         NaN  765.679545  894.286364   \n",
       "\n",
       "                           \n",
       "place_residence ZYDERVELD  \n",
       "gender                     \n",
       "F                  612.72  \n",
       "M                     NaN  \n",
       "\n",
       "[2 rows x 1294 columns]"
      ]
     },
     "execution_count": 25,
     "metadata": {},
     "output_type": "execute_result"
    }
   ],
   "source": [
    "pd.pivot_table(\n",
    "    df, values=[\"premium_wa\"],\n",
    "    index=[\"gender\"],\n",
    "    columns=[\"place_residence\"],\n",
    "    aggfunc=\"mean\",\n",
    ")"
   ]
  },
  {
   "cell_type": "code",
   "execution_count": null,
   "id": "993f22f7-7ffb-4d3c-a580-4967f61593b3",
   "metadata": {},
   "outputs": [],
   "source": []
  }
 ],
 "metadata": {
  "kernelspec": {
   "display_name": "Python 3",
   "language": "python",
   "name": "python3"
  },
  "language_info": {
   "codemirror_mode": {
    "name": "ipython",
    "version": 3
   },
   "file_extension": ".py",
   "mimetype": "text/x-python",
   "name": "python",
   "nbconvert_exporter": "python",
   "pygments_lexer": "ipython3",
   "version": "3.8.8"
  }
 },
 "nbformat": 4,
 "nbformat_minor": 5
}
