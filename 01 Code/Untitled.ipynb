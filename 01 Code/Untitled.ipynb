{
 "cells": [
  {
   "cell_type": "code",
   "execution_count": 9,
   "id": "2389b324-2355-40c9-a1af-599518a50db2",
   "metadata": {},
   "outputs": [],
   "source": [
    "import os\n",
    "import pandas as pd\n",
    "import sys\n",
    "import numpy as np\n",
    "import matplotlib.pyplot as plt\n",
    "import seaborn as sns\n",
    "sns.set_style(\"whitegrid\")       # optional aesthetics\n",
    "%matplotlib inline "
   ]
  },
  {
   "cell_type": "code",
   "execution_count": 10,
   "id": "fa8cc0b1-07d8-42a2-bf88-b29dca8be8a7",
   "metadata": {},
   "outputs": [],
   "source": [
    "data_path = \"https://github.com/mithridata-com/NOVAIMS_BDMwDS_PROJECT/blob/main/00%20Data/\""
   ]
  },
  {
   "cell_type": "code",
   "execution_count": 3,
   "id": "ee135839-ea3b-458a-8438-81dc2498f5ee",
   "metadata": {},
   "outputs": [],
   "source": [
    "# Function to load each Excel file into its own DataFrame\n",
    "def load_excel_dataframe(filename: str, sheet_name: str) -> pd.DataFrame:\n",
    "    \"\"\"\n",
    "    Load a sheet from an Excel file into a pandas DataFrame.\n",
    "    Prints the shape on success or an error message on failure.\n",
    "    \"\"\"\n",
    "    file_path = os.path.join(data_path, filename)\n",
    "    try:\n",
    "        df = pd.read_excel(file_path, sheet_name=sheet_name)\n",
    "        print(f\"Loaded '{sheet_name}' from '{filename}' (shape: {df.shape})\")\n",
    "        return df\n",
    "    except Exception as e:\n",
    "        print(f\"Error loading '{sheet_name}' from '{filename}': {e}\")\n",
    "        return pd.DataFrame()"
   ]
  },
  {
   "cell_type": "code",
   "execution_count": 4,
   "id": "677a9a79-4e5a-46c6-ab6f-b9a994f6e4dd",
   "metadata": {},
   "outputs": [
    {
     "name": "stdout",
     "output_type": "stream",
     "text": [
      "Error loading 'funnel_data' from 'Funnel.xlsx': HTTP Error 404: Not Found\n"
     ]
    }
   ],
   "source": [
    "# Load DataFrames\n",
    "df = load_excel_dataframe(\"Funnel.xlsx\", \"funnel_data\")"
   ]
  },
  {
   "cell_type": "code",
   "execution_count": 7,
   "id": "43588ec7-3c51-4216-9715-35d924f96d06",
   "metadata": {},
   "outputs": [
    {
     "ename": "ModuleNotFoundError",
     "evalue": "No module named 'ydata_profiling'",
     "output_type": "error",
     "traceback": [
      "\u001b[31m---------------------------------------------------------------------------\u001b[39m",
      "\u001b[31mModuleNotFoundError\u001b[39m                       Traceback (most recent call last)",
      "\u001b[36mCell\u001b[39m\u001b[36m \u001b[39m\u001b[32mIn[7]\u001b[39m\u001b[32m, line 5\u001b[39m\n\u001b[32m      3\u001b[39m \u001b[38;5;28;01mimport\u001b[39;00m\u001b[38;5;250m \u001b[39m\u001b[34;01msys\u001b[39;00m\n\u001b[32m      4\u001b[39m \u001b[38;5;28;01mimport\u001b[39;00m\u001b[38;5;250m \u001b[39m\u001b[34;01msqlite3\u001b[39;00m       \n\u001b[32m----> \u001b[39m\u001b[32m5\u001b[39m \u001b[38;5;28;01mfrom\u001b[39;00m\u001b[38;5;250m \u001b[39m\u001b[34;01mydata_profiling\u001b[39;00m\u001b[38;5;250m \u001b[39m\u001b[38;5;28;01mimport\u001b[39;00m ProfileReport \u001b[38;5;66;03m# for profiling\u001b[39;00m\n\u001b[32m      6\u001b[39m \u001b[38;5;28;01mimport\u001b[39;00m\u001b[38;5;250m \u001b[39m\u001b[34;01mnumpy\u001b[39;00m\u001b[38;5;250m \u001b[39m\u001b[38;5;28;01mas\u001b[39;00m\u001b[38;5;250m \u001b[39m\u001b[34;01mnp\u001b[39;00m\n\u001b[32m      7\u001b[39m \u001b[38;5;28;01mimport\u001b[39;00m\u001b[38;5;250m \u001b[39m\u001b[34;01mmatplotlib\u001b[39;00m\u001b[34;01m.\u001b[39;00m\u001b[34;01mpyplot\u001b[39;00m\u001b[38;5;250m \u001b[39m\u001b[38;5;28;01mas\u001b[39;00m\u001b[38;5;250m \u001b[39m\u001b[34;01mplt\u001b[39;00m\n",
      "\u001b[31mModuleNotFoundError\u001b[39m: No module named 'ydata_profiling'"
     ]
    }
   ],
   "source": [
    "import os\n",
    "import pandas as pd\n",
    "import sys\n",
    "import sqlite3       \n",
    "from ydata_profiling import ProfileReport # for profiling\n",
    "import numpy as np\n",
    "import matplotlib.pyplot as plt\n",
    "import seaborn as sns\n",
    "sns.set_style(\"whitegrid\")       # optional aesthetics\n",
    "%matplotlib inline "
   ]
  },
  {
   "cell_type": "code",
   "execution_count": null,
   "id": "1fd3cd75-8493-4e63-aca7-e73c30aec5e1",
   "metadata": {},
   "outputs": [],
   "source": []
  }
 ],
 "metadata": {
  "kernelspec": {
   "display_name": "Python 3 (ipykernel)",
   "language": "python",
   "name": "python3"
  },
  "language_info": {
   "codemirror_mode": {
    "name": "ipython",
    "version": 3
   },
   "file_extension": ".py",
   "mimetype": "text/x-python",
   "name": "python",
   "nbconvert_exporter": "python",
   "pygments_lexer": "ipython3",
   "version": "3.13.4"
  }
 },
 "nbformat": 4,
 "nbformat_minor": 5
}
